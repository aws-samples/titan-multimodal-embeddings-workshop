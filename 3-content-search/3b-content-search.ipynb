{
 "cells": [
  {
   "cell_type": "markdown",
   "id": "24ab1a4e-d73e-47e6-bfc5-db6cdd5675fe",
   "metadata": {},
   "source": [
    "# Amazon Bedrock Multimodal Workshop\n",
    "## Content Search -- Indexing and search\n",
    "In this notebook we are going to populate the vector database and perform search with text and images. \n",
    "\n",
    "We will also do comparisons between different embedding sizes. "
   ]
  },
  {
   "cell_type": "markdown",
   "id": "571e2fbb-0210-455b-8330-8687e8adae99",
   "metadata": {},
   "source": [
    "### Install and import needed libraries\n",
    "For this notebook to run correctly, we will need to install, import and initialize the necessary libraries and clients. "
   ]
  },
  {
   "cell_type": "code",
   "execution_count": null,
   "id": "1a15a920-5bcd-4a00-bd84-0807863e4adf",
   "metadata": {
    "tags": []
   },
   "outputs": [],
   "source": [
    "!pip install -q opensearch-py\n",
    "!pip install -q requests_aws4auth"
   ]
  },
  {
   "cell_type": "code",
   "execution_count": null,
   "id": "3235bb36-75a6-4f7b-a4fb-f15edf1dce8b",
   "metadata": {
    "tags": []
   },
   "outputs": [],
   "source": [
    "import os\n",
    "import io\n",
    "import json\n",
    "import time\n",
    "import boto3\n",
    "import base64\n",
    "import datetime\n",
    "import pandas as pd\n",
    "from PIL import Image\n",
    "import concurrent.futures\n",
    "import matplotlib.pyplot as plt\n",
    "import matplotlib.image as mpimg\n",
    "from opensearchpy import OpenSearch, RequestsHttpConnection\n",
    "from requests_aws4auth import AWS4Auth\n",
    "from aoss_utils import createEncryptionPolicy, createNetworkPolicy, createAccessPolicy, createCollection, waitForCollectionCreation\n",
    "opensearch_client = boto3.client('opensearchserverless')\n",
    "bedrock_runtime = boto3.client(service_name=\"bedrock-runtime\")"
   ]
  },
  {
   "cell_type": "code",
   "execution_count": null,
   "id": "ad4721ae-48c7-494d-a202-8078ea3160f9",
   "metadata": {
    "tags": []
   },
   "outputs": [],
   "source": [
    "# Define output vector size – 1,024 (default), 384, 256\n",
    "outputEmbeddingLength = 1024"
   ]
  },
  {
   "cell_type": "code",
   "execution_count": null,
   "id": "3ea2b617-aa13-49fb-ae1e-0f8115624bc3",
   "metadata": {
    "tags": []
   },
   "outputs": [],
   "source": [
    "session = boto3.Session()\n",
    "identity_arn = session.client('sts').get_caller_identity()['Arn']\n",
    "print(\"Current IAM Role ARN:\", identity_arn)"
   ]
  },
  {
   "cell_type": "markdown",
   "id": "5b20cc7b-eb41-4561-bf98-87561aa12f87",
   "metadata": {},
   "source": [
    "### Define dataset\n",
    "We are going to be using the curated dataset from the previous notebook."
   ]
  },
  {
   "cell_type": "code",
   "execution_count": null,
   "id": "7f0e3248-c351-4337-8aea-5ec460fcaf69",
   "metadata": {
    "tags": []
   },
   "outputs": [],
   "source": [
    "dataset_file = \"curated_dataset.json\""
   ]
  },
  {
   "cell_type": "markdown",
   "id": "f16f1a04-15a5-4d13-9444-84c3e1f1cd71",
   "metadata": {},
   "source": [
    "### Create embeddings from image"
   ]
  },
  {
   "cell_type": "code",
   "execution_count": null,
   "id": "637c8c79-fde2-4e9b-ab5e-267e1e18d4f7",
   "metadata": {
    "tags": []
   },
   "outputs": [],
   "source": [
    "def create_embeddings_from_image(image_path, outputEmbeddingLength):\n",
    "    max_height = 2048\n",
    "    max_width = 2048\n",
    "    \n",
    "    # Open and resize the image\n",
    "    with Image.open(image_path) as img:\n",
    "        if (img.size[0] * img.size[1]) > (max_height * max_width):\n",
    "            img.thumbnail((max_height, max_width))\n",
    "            resized_img = img.copy() \n",
    "        else:\n",
    "            resized_img = img \n",
    "\n",
    "        # Convert the resized image to bytes\n",
    "        img_byte_array = io.BytesIO()\n",
    "        resized_img.save(img_byte_array, format=img.format)\n",
    "        img_bytes = img_byte_array.getvalue()\n",
    "\n",
    "    # Encode the resized image to base64\n",
    "    image_encoded = base64.b64encode(img_bytes).decode('utf8')\n",
    "\n",
    "    # Prepare the request body\n",
    "    body = json.dumps(\n",
    "        {\n",
    "            \"inputImage\": image_encoded,\n",
    "            \"embeddingConfig\": {\n",
    "                \"outputEmbeddingLength\": outputEmbeddingLength\n",
    "            }\n",
    "        }\n",
    "    )\n",
    "\n",
    "    # Make the API call to the bedrock_runtime\n",
    "    response = bedrock_runtime.invoke_model(\n",
    "        body=body,\n",
    "        modelId=\"amazon.titan-embed-image-v1\",\n",
    "        accept=\"application/json\",\n",
    "        contentType=\"application/json\"\n",
    "    )\n",
    "\n",
    "    # Parse and return the vector\n",
    "    vector = json.loads(response['body'].read().decode('utf8'))\n",
    "    return vector"
   ]
  },
  {
   "cell_type": "markdown",
   "id": "6e0791a1-796e-4c57-a800-d17e20b9d416",
   "metadata": {},
   "source": [
    "### Create a vector database using Amazon OpenSearch Serverless\n",
    "\n",
    "#### Create an Amazon OpenSearch Serverless Collection"
   ]
  },
  {
   "cell_type": "code",
   "execution_count": null,
   "id": "94c9118a-9287-4a64-8ada-4e2c5aefdcae",
   "metadata": {
    "tags": []
   },
   "outputs": [],
   "source": [
    "client = boto3.client('opensearchserverless')\n",
    "service = 'aoss'\n",
    "region = 'us-east-1'\n",
    "credentials = boto3.Session().get_credentials()\n",
    "awsauth = AWS4Auth(credentials.access_key, credentials.secret_key, region, service, session_token=credentials.token)\n",
    "collection_name = \"retail-collection-1\""
   ]
  },
  {
   "cell_type": "code",
   "execution_count": null,
   "id": "c927ce5d-0e96-41b5-a5a3-7858e3373c75",
   "metadata": {
    "tags": []
   },
   "outputs": [],
   "source": [
    "createEncryptionPolicy(client, collection_name)\n",
    "createNetworkPolicy(client, collection_name)\n",
    "createAccessPolicy(client, collection_name, identity_arn)\n",
    "createCollection(client, collection_name)\n",
    "host, collection_id = waitForCollectionCreation(client, collection_name)"
   ]
  },
  {
   "cell_type": "markdown",
   "id": "6029df19-c447-4ea3-bb4a-915b9932ae3b",
   "metadata": {},
   "source": [
    "#### Create a Collection Index"
   ]
  },
  {
   "cell_type": "code",
   "execution_count": null,
   "id": "89a2fadd-56e1-4f80-89fe-a114eaeebd84",
   "metadata": {
    "tags": []
   },
   "outputs": [],
   "source": [
    "region = 'us-east-1'\n",
    "service = 'aoss'\n",
    "credentials = boto3.Session().get_credentials()\n",
    "awsauth = AWS4Auth(credentials.access_key, credentials.secret_key, region, service,session_token=credentials.token)"
   ]
  },
  {
   "cell_type": "code",
   "execution_count": null,
   "id": "db040ffd-aba7-4536-bfb7-31a230d35bc2",
   "metadata": {
    "tags": []
   },
   "outputs": [],
   "source": [
    "OSSclient = OpenSearch(\n",
    "    hosts=[{'host': host, 'port': 443}],\n",
    "    http_auth=awsauth,\n",
    "    use_ssl=True,\n",
    "    verify_certs=True,\n",
    "    connection_class=RequestsHttpConnection,\n",
    "    timeout=300\n",
    ")"
   ]
  },
  {
   "cell_type": "code",
   "execution_count": null,
   "id": "bd0cdebf-565a-4dbf-b3a6-1e97293a7eb3",
   "metadata": {
    "tags": []
   },
   "outputs": [],
   "source": [
    "def create_index(index, outputEmbeddingLength) :\n",
    "    if not OSSclient.indices.exists(index):\n",
    "        settings = {\n",
    "            \"settings\": {\n",
    "                \"index\": {\n",
    "                    \"knn\": True,\n",
    "                }\n",
    "            },\n",
    "            \"mappings\": {\n",
    "                \"properties\": {\n",
    "                    \"id\": {\"type\": \"text\"},\n",
    "                    \"name\": {\"type\": \"text\"},\n",
    "                    \"color\": {\"type\": \"text\"},\n",
    "                    \"brand\": {\"type\": \"text\"},\n",
    "                    \"description\": {\"type\": \"text\"},\n",
    "                    \"createtime\": {\"type\": \"text\"},\n",
    "                    \"image_path\":{\"type\": \"text\"},\n",
    "                    \"vector_field\": {\n",
    "                        \"type\": \"knn_vector\",\n",
    "                        \"dimension\": outputEmbeddingLength,\n",
    "                    },\n",
    "                }\n",
    "            },\n",
    "        }\n",
    "        res = OSSclient.indices.create(index, body=settings)\n",
    "        print(res)"
   ]
  },
  {
   "cell_type": "code",
   "execution_count": null,
   "id": "a549a594-c49f-4d7f-a723-20d412423655",
   "metadata": {
    "tags": []
   },
   "outputs": [],
   "source": [
    "index_name = \"retail-dataset-{}\".format(outputEmbeddingLength)"
   ]
  },
  {
   "cell_type": "code",
   "execution_count": null,
   "id": "e143a7cf-99fb-4c34-9976-5e371614780c",
   "metadata": {
    "tags": []
   },
   "outputs": [],
   "source": [
    "create_index(index_name, outputEmbeddingLength)"
   ]
  },
  {
   "cell_type": "markdown",
   "id": "26b73eaf-3db9-4cb8-a81d-7ff00002b296",
   "metadata": {},
   "source": [
    "### Populate the index"
   ]
  },
  {
   "cell_type": "code",
   "execution_count": null,
   "id": "e3af2797-dc42-4c6c-ad29-516218d60e0a",
   "metadata": {
    "tags": []
   },
   "outputs": [],
   "source": [
    "def create_dataset_list(records_file):\n",
    "    dataset_list = []\n",
    "\n",
    "    with open(records_file, 'r') as json_file:\n",
    "            dataset_list = json.load(json_file)\n",
    "    \n",
    "    return dataset_list\n",
    "    \n",
    "def process_batch(batch, index, outputEmbeddingLength):\n",
    "    start_time = datetime.datetime.now()\n",
    "    bulk_data = \"\"\n",
    "    for entry in batch:        \n",
    "        image_location = \"images/{}\".format(entry[\"image_path\"])\n",
    "        vector = create_embeddings_from_image(image_location, outputEmbeddingLength)\n",
    "        dt = datetime.datetime.now().isoformat()\n",
    "        doc = {\n",
    "            \"vector_field\" : vector[\"embedding\"],\n",
    "            \"createtime\": dt,\n",
    "            \"id\": entry[\"item_id\"],\n",
    "            \"name\": entry[\"item_name\"],\n",
    "            \"color\": entry[\"color\"],\n",
    "            \"brand\": entry[\"brand\"],\n",
    "            \"description\": entry[\"description\"],\n",
    "            \"image_path\": entry[\"image_path\"]\n",
    "        }\n",
    "        \n",
    "        bulk_entry = \"{{\\\"index\\\": {{\\\"_index\\\": \\\"{}\\\"}}}}\\n{}\\n\".format(index, json.dumps(doc))\n",
    "        bulk_data += bulk_entry\n",
    "    end_time = datetime.datetime.now()\n",
    "    processing_time = (end_time - start_time).total_seconds() * 1000  # Convert to milliseconds\n",
    "    print(\"Processed {} records in {} ms\".format(len(batch), processing_time))\n",
    "    response = OSSclient.bulk(bulk_data)\n",
    "    if (response[\"errors\"] is False):\n",
    "        print(\"Sent {} records in {} ms\".format(len(response[\"items\"]), response[\"took\"]))\n",
    "    else:\n",
    "        print(\"Error found\")\n",
    "\n",
    "def populate_vector_database(records_file, index, outputEmbeddingLength, batch_size=100):\n",
    "    dataset_list = create_dataset_list(records_file)\n",
    "    with concurrent.futures.ThreadPoolExecutor() as executor:\n",
    "        # Split the dataset into batches\n",
    "        batches = [dataset_list[i:i+batch_size] for i in range(0, len(dataset_list), batch_size)]\n",
    "\n",
    "        # Map the process_batch function to each batch in the dataset using multiple threads\n",
    "        futures = [executor.submit(process_batch, batch, index, outputEmbeddingLength) for batch in batches]\n",
    "\n",
    "        # Wait for all threads to complete\n",
    "        concurrent.futures.wait(futures)"
   ]
  },
  {
   "cell_type": "code",
   "execution_count": null,
   "id": "4f2e402d-c538-4771-9a38-fe631f8a3511",
   "metadata": {
    "tags": []
   },
   "outputs": [],
   "source": [
    "populate_vector_database(dataset_file, index_name, outputEmbeddingLength)\n"
   ]
  },
  {
   "cell_type": "markdown",
   "id": "bedff1c1-bdb9-4073-877b-017df81d72c1",
   "metadata": {},
   "source": [
    "### Query the vector database\n",
    "\n",
    "#### Search by text"
   ]
  },
  {
   "cell_type": "code",
   "execution_count": null,
   "id": "bb2f099c-d15e-4b55-ba91-f322920739bc",
   "metadata": {
    "tags": []
   },
   "outputs": [],
   "source": [
    "def get_embedding_for_text(text, outputEmbeddingLength):\n",
    "    body = json.dumps(\n",
    "        {\"inputText\": text, \n",
    "         \"embeddingConfig\": { \n",
    "                \"outputEmbeddingLength\": outputEmbeddingLength\n",
    "            }\n",
    "        }\n",
    "    )\n",
    "\n",
    "    response = bedrock_runtime.invoke_model(\n",
    "        body=body, \n",
    "        modelId=\"amazon.titan-embed-image-v1\", \n",
    "        accept=\"application/json\", \n",
    "        contentType=\"application/json\"       \n",
    "    )\n",
    "\n",
    "    vector_json = json.loads(response['body'].read().decode('utf8'))\n",
    "\n",
    "    return vector_json, text\n",
    "\n",
    "def query_the_database_with_text(text, index, outputEmbeddingLength, k):\n",
    "    o_vector_json, o_text = get_embedding_for_text(text, outputEmbeddingLength)\n",
    "    query = {\n",
    "      'query': {\n",
    "        'bool': {\n",
    "            \"must\": [\n",
    "                {\n",
    "                    \"knn\":{\n",
    "                       'vector_field':{\n",
    "                           \"vector\":o_vector_json[\"embedding\"],\n",
    "                           \"k\": k\n",
    "                       } \n",
    "                    }\n",
    "                }\n",
    "            ]\n",
    "        }\n",
    "      }\n",
    "    }\n",
    "    \n",
    "    response = OSSclient.search(\n",
    "        body = query,\n",
    "        index = index\n",
    "    )\n",
    "    \n",
    "    return response\n",
    "    \n",
    "def display_images(image_data):\n",
    "    # Create a subplot with 1 row and the number of images as columns\n",
    "    num_images = len(image_data)\n",
    "    fig, axes = plt.subplots(1, num_images, figsize=(15, 5))\n",
    "\n",
    "    # Iterate over each image data entry and display the image and description\n",
    "    for i, entry in enumerate(image_data):\n",
    "        image_path = \"images/{}\".format(entry['_source']['image_path'])\n",
    "        #description = entry['metadata']['description']\n",
    "        \n",
    "        # Load and display the image\n",
    "        img = mpimg.imread(image_path)\n",
    "        axes[i].imshow(img)\n",
    "        axes[i].axis('off')\n",
    "        axes[i].set_title(\"{}\".format(entry['_source']['image_path']))\n",
    "        axes[i].text(0.5, -0.1, f\"Score: {entry['_score']:.4f}\", ha='center', transform=axes[i].transAxes)\n",
    "    # Adjust layout to prevent clipping of titles\n",
    "    plt.tight_layout()\n",
    "    plt.show()"
   ]
  },
  {
   "cell_type": "code",
   "execution_count": null,
   "id": "f5143803-418f-49e5-8df8-92f4ea95715b",
   "metadata": {
    "tags": []
   },
   "outputs": [],
   "source": [
    "results_text = query_the_database_with_text(\"A bed\", index_name, outputEmbeddingLength, k=10)\n",
    "# Display the results\n",
    "display_images(results_text[\"hits\"][\"hits\"])"
   ]
  },
  {
   "cell_type": "markdown",
   "id": "55c80a7f-81b2-4f95-bbef-a2d8b4af60fc",
   "metadata": {},
   "source": [
    "#### Search by image"
   ]
  },
  {
   "cell_type": "code",
   "execution_count": null,
   "id": "450b8ad1-d4b5-424d-a898-5689d91e14c3",
   "metadata": {
    "tags": []
   },
   "outputs": [],
   "source": [
    "def query_the_database_with_image(image, index, outputEmbeddingLength, k):\n",
    "    o_vector_json = create_embeddings_from_image(image, outputEmbeddingLength)\n",
    "    query = {\n",
    "      'query': {\n",
    "        'bool': {\n",
    "            \"must\": [\n",
    "                {\n",
    "                    \"knn\":{\n",
    "                       'vector_field':{\n",
    "                           \"vector\":o_vector_json[\"embedding\"],\n",
    "                           \"k\": k\n",
    "                       } \n",
    "                    }\n",
    "                }\n",
    "            ]\n",
    "        }\n",
    "      }\n",
    "    }\n",
    "    \n",
    "    response = OSSclient.search(\n",
    "        body = query,\n",
    "        index = index\n",
    "    )\n",
    "    \n",
    "    return response"
   ]
  },
  {
   "cell_type": "code",
   "execution_count": null,
   "id": "d4c6905d-0c07-462c-923a-ecda38fb0104",
   "metadata": {
    "tags": []
   },
   "outputs": [],
   "source": [
    "test_image = \"test-images/bed.png\" # Locate test image"
   ]
  },
  {
   "cell_type": "code",
   "execution_count": null,
   "id": "9437220c-32aa-4c1d-8ea7-68f36911d780",
   "metadata": {
    "tags": []
   },
   "outputs": [],
   "source": [
    "results = query_the_database_with_image(test_image, index_name, outputEmbeddingLength, k=10)"
   ]
  },
  {
   "cell_type": "code",
   "execution_count": null,
   "id": "bbf7062f-748f-4157-a376-38a22516d16b",
   "metadata": {
    "tags": []
   },
   "outputs": [],
   "source": [
    "# Display the results\n",
    "display_images(results[\"hits\"][\"hits\"])"
   ]
  },
  {
   "cell_type": "markdown",
   "id": "a35633f8-1d31-4739-924d-473a34d8f470",
   "metadata": {},
   "source": [
    "## Compare different vector sizes results"
   ]
  },
  {
   "cell_type": "markdown",
   "id": "bb28dbc0-1b8b-4195-91c5-14236cc51230",
   "metadata": {},
   "source": [
    "This section will showcase you the difference between using different vector sizes."
   ]
  },
  {
   "cell_type": "code",
   "execution_count": null,
   "id": "e11b7eb5-3518-49cb-8c78-6f1a694b6b25",
   "metadata": {
    "tags": []
   },
   "outputs": [],
   "source": [
    "vector_sizes = [1024, 384, 256]\n",
    "index_name_compare = \"retail-dataset\"\n",
    "k = 10"
   ]
  },
  {
   "cell_type": "code",
   "execution_count": null,
   "id": "100f749a-991b-4e51-b9ad-3e6ceb32ce2f",
   "metadata": {
    "tags": []
   },
   "outputs": [],
   "source": [
    "def vector_comparison_populate(vector_sizes, index_name, dataset_file):\n",
    "    for vector_size in vector_sizes:\n",
    "        test_index_name = \"test-{}-{}\".format(index_name, vector_size)\n",
    "        create_index(test_index_name, vector_size)\n",
    "        populate_vector_database(dataset_file, test_index_name, vector_size)\n",
    "\n",
    "def text_query_comparison(vector_sizes, index_name, text_query, k):\n",
    "    query_results = []\n",
    "    for vector_size in vector_sizes:\n",
    "        test_index_name = \"test-{}-{}\".format(index_name, vector_size)\n",
    "        query_result = query_the_database_with_text(text_query, test_index_name, vector_size, k)\n",
    "        query_results.append({\n",
    "            \"index\": test_index_name,\n",
    "            \"results\": query_result\n",
    "        })      \n",
    "    return query_results\n",
    "\n",
    "def image_query_comparison(vector_sizes, index_name, image, k):\n",
    "    query_results = []\n",
    "    for vector_size in vector_sizes:\n",
    "        test_index_name = \"test-{}-{}\".format(index_name, vector_size)\n",
    "        query_result = query_the_database_with_image(image, test_index_name, vector_size, k)\n",
    "        query_results.append({\n",
    "            \"index\": test_index_name,\n",
    "            \"results\": query_result\n",
    "        })      \n",
    "    return query_results\n",
    "\n",
    "def print_results(results):\n",
    "    dfs = []\n",
    "    for item in results:\n",
    "        index_name = item['index']\n",
    "        hits = item['results']['hits']['hits']\n",
    "    \n",
    "        df_data = {'title': [], 'score': []}\n",
    "    \n",
    "        for hit in hits:\n",
    "            df_data['title'].append(hit['_source']['name'])\n",
    "            df_data['score'].append(hit['_score'])\n",
    "    \n",
    "        df = pd.DataFrame(df_data)\n",
    "        dfs.append({index_name: df})\n",
    "    \n",
    "    # Concatenate and print dataframes side by side\n",
    "    dfs_concatenated = pd.concat([list(df_dict.values())[0] for df_dict in dfs],\n",
    "                                 axis=1,\n",
    "                                 keys=[list(df_dict.keys())[0] for df_dict in dfs])\n",
    "    \n",
    "    return dfs_concatenated\n"
   ]
  },
  {
   "cell_type": "code",
   "execution_count": null,
   "id": "6686880e-bf67-418c-b807-6a7082f0cf81",
   "metadata": {
    "tags": []
   },
   "outputs": [],
   "source": [
    "vector_comparison_populate(vector_sizes, index_name_compare,  dataset_file)"
   ]
  },
  {
   "cell_type": "markdown",
   "id": "3f6812d5-f81a-4387-ba68-fa6d1ac5c170",
   "metadata": {},
   "source": [
    "#### Compare Text Search against the different indexes\n",
    "You might need to wait a couple of seconds before indexing has finished"
   ]
  },
  {
   "cell_type": "code",
   "execution_count": null,
   "id": "f5c04e84-ce38-4bfc-ad08-44df72957e88",
   "metadata": {
    "tags": []
   },
   "outputs": [],
   "source": [
    "text_query = \"A bed\""
   ]
  },
  {
   "cell_type": "code",
   "execution_count": null,
   "id": "75f46e6d-bbb2-4959-9db7-38f40eb3431c",
   "metadata": {
    "tags": []
   },
   "outputs": [],
   "source": [
    "text_query_results = text_query_comparison(vector_sizes, index_name_compare, text_query, k)"
   ]
  },
  {
   "cell_type": "code",
   "execution_count": null,
   "id": "88771941-12a0-4492-acc2-10576d492b2f",
   "metadata": {
    "tags": []
   },
   "outputs": [],
   "source": [
    "print_results(text_query_results)"
   ]
  },
  {
   "cell_type": "markdown",
   "id": "6b6d3371-547f-417d-8f13-adf71e1dd607",
   "metadata": {},
   "source": [
    "#### Compare Image Search against the different indexes"
   ]
  },
  {
   "cell_type": "code",
   "execution_count": null,
   "id": "4580dacd-8635-4651-9920-604f3bd55985",
   "metadata": {
    "tags": []
   },
   "outputs": [],
   "source": [
    "test_image = \"test-images/bed.png\" # Locate test image"
   ]
  },
  {
   "cell_type": "code",
   "execution_count": null,
   "id": "a4584434-3088-473d-ad7a-e01e3e9769a3",
   "metadata": {
    "tags": []
   },
   "outputs": [],
   "source": [
    "image_query_results = image_query_comparison(vector_sizes, index_name_compare, test_image, k)"
   ]
  },
  {
   "cell_type": "code",
   "execution_count": null,
   "id": "9bb4b85d-96ea-40c8-a846-4998de201356",
   "metadata": {
    "tags": []
   },
   "outputs": [],
   "source": [
    "print_results(image_query_results)"
   ]
  },
  {
   "cell_type": "code",
   "execution_count": null,
   "id": "4bd81b65-e210-449a-a328-aaa0973e9d50",
   "metadata": {
    "tags": []
   },
   "outputs": [],
   "source": [
    "for result in text_query_results:\n",
    "    print(\"Results for {}\".format(result[\"index\"]))\n",
    "    print(\"Query: {}\".format(text_query))\n",
    "    display_images(result['results'][\"hits\"][\"hits\"])"
   ]
  },
  {
   "cell_type": "code",
   "execution_count": null,
   "id": "d69553f7-2951-4756-9875-8a837fe8fa49",
   "metadata": {
    "tags": []
   },
   "outputs": [],
   "source": [
    "for result in image_query_results:\n",
    "    print(\"Results for {}\".format(result[\"index\"]))\n",
    "    print(\"Input: {}\".format(test_image))\n",
    "    display_images(result['results'][\"hits\"][\"hits\"])"
   ]
  },
  {
   "cell_type": "markdown",
   "id": "03ae8ff2-cc21-499a-9554-f36400ea97ea",
   "metadata": {},
   "source": [
    "### Clean up \n",
    "In this section we will delete any resource which may incur in unnecessary costs."
   ]
  },
  {
   "cell_type": "code",
   "execution_count": null,
   "id": "51445d8b-d38e-454c-bf4a-c76a8cff2746",
   "metadata": {
    "tags": []
   },
   "outputs": [],
   "source": [
    "response = client.delete_security_policy(\n",
    "    name='{}-policy'.format(collection_name),\n",
    "    type='encryption'\n",
    ")\n",
    "\n",
    "response = client.delete_security_policy(\n",
    "     name='{}-policy'.format(collection_name),\n",
    "    type='network'\n",
    ")\n",
    "\n",
    "response = client.delete_access_policy(\n",
    "    name='{}-policy'.format(collection_name),\n",
    "    type='data'\n",
    ")\n",
    "\n",
    "response = client.delete_collection(\n",
    "    id=collection_id\n",
    ")"
   ]
  }
 ],
 "metadata": {
  "kernelspec": {
   "display_name": "conda_python3",
   "language": "python",
   "name": "conda_python3"
  },
  "language_info": {
   "codemirror_mode": {
    "name": "ipython",
    "version": 3
   },
   "file_extension": ".py",
   "mimetype": "text/x-python",
   "name": "python",
   "nbconvert_exporter": "python",
   "pygments_lexer": "ipython3",
   "version": "3.10.14"
  }
 },
 "nbformat": 4,
 "nbformat_minor": 5
}
